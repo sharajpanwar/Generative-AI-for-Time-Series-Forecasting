{
 "cells": [
  {
   "cell_type": "code",
   "execution_count": 1,
   "metadata": {},
   "outputs": [],
   "source": [
    "import numpy as np\n",
    "import pandas as pd\n",
    "import random\n",
    "from random import shuffle"
   ]
  },
  {
   "cell_type": "code",
   "execution_count": 2,
   "metadata": {},
   "outputs": [],
   "source": [
    "# we will create sensor labels by shifting values for each 4 hours window (48 time steps) starting t-30 mins measurements (total 270 mins)\n",
    "#  i.e 54th time steps is first label, will drop earlier measurement from label set\n",
    "\n",
    "drop_t=53; x_window=48\n",
    "dir='/home/grads/s/sharaj/sensor_proj/data/'\n",
    "\n",
    "# function for creating data sample and corresponding labels # we won't have label for last 53 time steps:\n",
    "\n",
    "def create_x_y(file_name):\n",
    "    # sensor_data = np.loadtxt(dir+str(file_name)+'.csv')  \n",
    "    sensor_data=pd.read_csv(dir+'data_csvs/'+str(file_name)+'.csv', names=['sensor_read'])\n",
    "    # convert character entries such as 'LOW' to NaN\n",
    "    sensor_data['sensor_read'] = pd.to_numeric(sensor_data.sensor_read.astype(str).str.replace(',',''), errors='coerce')\n",
    "    # Replace NaN entries by previous / next values\n",
    "    sensor_data=sensor_data.bfill().ffill()\n",
    "    sensor_data = np.squeeze(sensor_data.values) #extract data      \n",
    "    sensor_label= sensor_data[drop_t:] # extract labels\n",
    "    # Now we will create a sample of 4 hours  (48 time steps) measurement each\n",
    "    x_matrix= np.empty([0,x_window])\n",
    "    for i in range(sensor_label.shape[0]):\n",
    "        x_matrix = np.vstack((x_matrix,sensor_data[i:i+x_window]))\n",
    "    return x_matrix, sensor_label\n",
    "    "
   ]
  },
  {
   "cell_type": "code",
   "execution_count": 3,
   "metadata": {},
   "outputs": [],
   "source": [
    "# Creating Train and test sets across sensor files using randon state\n",
    "\n",
    "train_set_files=90\n",
    "\n",
    "def train_test_split(Random_state):\n",
    "    random.seed(Random_state)\n",
    "    indx= [i for i in range(1,114)]\n",
    "    shuffle(indx)\n",
    "\n",
    "    x_train=np.empty([0,x_window]); y_train=np.empty([0,1])\n",
    "    for f in indx[:train_set_files]:\n",
    "        x, y = create_x_y(f)\n",
    "        x_train = np.vstack((x_train,x))\n",
    "        y_train = np.concatenate((y_train,y.reshape(-1,1)))\n",
    "        \n",
    "    x_test=np.empty([0,x_window]); y_test=np.empty([0,1])\n",
    "    for f in indx[train_set_files:]:\n",
    "        x, y = create_x_y(f)\n",
    "        x_test = np.vstack((x_test,x))\n",
    "        y_test = np.concatenate((y_test,y.reshape(-1,1)))\n",
    "    \n",
    "    return x_train, y_train, x_test, y_test\n",
    "    \n"
   ]
  },
  {
   "cell_type": "code",
   "execution_count": 4,
   "metadata": {},
   "outputs": [],
   "source": [
    "\n",
    "\n",
    "x_train, y_train, x_test, y_test=train_test_split(10)\n",
    "seed='old_check'\n",
    "np.save(dir+'x_train_'+str(seed)+'.npy',x_train)\n",
    "np.save(dir+'y_train_'+str(seed)+'.npy',y_train)\n",
    "np.save(dir+'x_test_'+str(seed)+'.npy',x_test)\n",
    "np.save(dir+'y_test_'+str(seed)+'.npy',y_test)"
   ]
  },
  {
   "cell_type": "code",
   "execution_count": 20,
   "metadata": {},
   "outputs": [
    {
     "name": "stdout",
     "output_type": "stream",
     "text": [
      "(1564103, 48)\n",
      "(1564103, 1)\n",
      "(383793, 48)\n",
      "(383793, 1)\n",
      "(1573979, 48)\n",
      "(1573979, 1)\n",
      "(373917, 48)\n",
      "(373917, 1)\n",
      "(1579303, 48)\n",
      "(1579303, 1)\n",
      "(368593, 48)\n",
      "(368593, 1)\n",
      "(1562669, 48)\n",
      "(1562669, 1)\n",
      "(385227, 48)\n",
      "(385227, 1)\n"
     ]
    }
   ],
   "source": [
    "#creating multiple train and test sets across sensor measurement\n",
    "n_trials=5\n",
    "seed_indx= [(randint(1, 100), randint(1, 100)) for i in range(n_trials)]\n",
    "for seed in seed_indx:\n",
    "    x_train, y_train, x_test, y_test=train_test_split(seed)\n",
    "    np.save(dir+'x_train_'+str(seed)+'.npy',x_train)\n",
    "    np.save(dir+'y_train_'+str(seed)+'.npy',y_train)\n",
    "    np.save(dir+'x_test_'+str(seed)+'.npy',x_test)\n",
    "    np.save(dir+'y_test_'+str(seed)+'.npy',y_test)\n",
    "    print (x_train.shape)\n",
    "    print (y_train.shape)\n",
    "    print (x_test.shape)\n",
    "    print (y_test.shape)\n"
   ]
  }
 ],
 "metadata": {
  "kernelspec": {
   "display_name": "sciml",
   "language": "python",
   "name": "python3"
  },
  "language_info": {
   "codemirror_mode": {
    "name": "ipython",
    "version": 3
   },
   "file_extension": ".py",
   "mimetype": "text/x-python",
   "name": "python",
   "nbconvert_exporter": "python",
   "pygments_lexer": "ipython3",
   "version": "3.8.12"
  },
  "orig_nbformat": 4
 },
 "nbformat": 4,
 "nbformat_minor": 2
}
